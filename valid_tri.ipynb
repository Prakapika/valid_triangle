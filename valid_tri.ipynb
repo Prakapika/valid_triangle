{
 "cells": [
  {
   "cell_type": "code",
   "execution_count": 1,
   "id": "8b8a6ff7",
   "metadata": {},
   "outputs": [
    {
     "name": "stdout",
     "output_type": "stream",
     "text": [
      "Valid Rectangle\n"
     ]
    }
   ],
   "source": [
    "def checkValidity(a, b, c):\n",
    "    if (a + b <= c) or (a + c <= b) or (b + c <= a) :\n",
    "        return False\n",
    "    else:\n",
    "        return True\t\n",
    "\n",
    "a = 2\n",
    "b = 4\n",
    "c = 2\n",
    "if checkValidity(a, b, c):\n",
    "    print(\"Valid Triangle\")\n",
    "else:\n",
    "    print(\"Valid Rectangle\")"
   ]
  },
  {
   "cell_type": "code",
   "execution_count": null,
   "id": "1e782c03",
   "metadata": {},
   "outputs": [],
   "source": []
  }
 ],
 "metadata": {
  "kernelspec": {
   "display_name": "Python 3 (ipykernel)",
   "language": "python",
   "name": "python3"
  },
  "language_info": {
   "codemirror_mode": {
    "name": "ipython",
    "version": 3
   },
   "file_extension": ".py",
   "mimetype": "text/x-python",
   "name": "python",
   "nbconvert_exporter": "python",
   "pygments_lexer": "ipython3",
   "version": "3.10.6"
  }
 },
 "nbformat": 4,
 "nbformat_minor": 5
}
